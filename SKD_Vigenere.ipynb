{
 "cells": [
  {
   "cell_type": "code",
   "execution_count": null,
   "id": "faf4f6d6",
   "metadata": {},
   "outputs": [
    {
     "name": "stdout",
     "output_type": "stream",
     "text": [
      "Masukkan teks yang akan dienkripsi: ODY FRANS\n",
      "Teks terenkripsi: ZOJ QCLYD\n"
     ]
    }
   ],
   "source": [
    "import string\n",
    "\n",
    "# Inputan plaintext yang akan dienkripsi\n",
    "plaintext = input(\"Masukkan teks yang akan dienkripsi: \")\n",
    "\n",
    "def caesar_encrypt(plaintext):\n",
    "    res = \"\"\n",
    "    for x in range(len(plaintext)):\n",
    "        if plaintext[x].isupper(): # Jika karakter adalah huruf kapital\n",
    "            enc = (string.ascii_uppercase.index(plaintext[x]) + 37) % 26 # Geser 'NIM' 50 posisi ke depan dalam alfabet kapital\n",
    "            res += string.ascii_uppercase[enc]\n",
    "        elif plaintext[x].islower(): # Jika karakter adalah huruf kecil\n",
    "            enc = (string.ascii_lowercase.index(plaintext[x]) + 37) % 26 # Geser 'NIM' 50 posisi ke depan dalam alfabet kecil\n",
    "            res += string.ascii_lowercase[enc] # Tambahkan karakter terenkripsi ke hasil\n",
    "        elif plaintext[x].isdigit(): # Jika karakter adalah angka\n",
    "            res += chr(((ord(plaintext[x]) - ord('0') + 37) % 10) + ord('0')) # Geser 'NIM' 50 posisi ke depan dalam angka (modulo 10)\n",
    "        else:\n",
    "            res += plaintext[x]\n",
    "    return res\n",
    "\n",
    "# Pemanggilan fungsi untuk enkripsi\n",
    "encrypted_text = caesar_encrypt(plaintext)\n",
    "print(\"Teks terenkripsi:\", encrypted_text)\n",
    "\n",
    "# Inputan ciphertext yang akan didekripsi\n",
    "ciphertext = input(\"Masukkan teks yang akan didekripsi: \")\n",
    "\n",
    "def caesar_decrypt(ciphertext):\n",
    "    res = \"\"\n",
    "    for x in range(len(ciphertext)):\n",
    "        if ciphertext[x].isupper():\n",
    "            dec = (string.ascii_uppercase.index(ciphertext[x]) - 37) % 26\n",
    "            res += string.ascii_uppercase[dec]\n",
    "        elif ciphertext[x].islower():\n",
    "            dec = (string.ascii_lowercase.index(ciphertext[x]) - 37) % 26\n",
    "            res += string.ascii_lowercase[dec]\n",
    "        elif ciphertext[x].isdigit():\n",
    "            res += chr(((ord(ciphertext[x]) - ord('0') - 37) % 10) + ord('0'))\n",
    "        else:\n",
    "            res += ciphertext[x]\n",
    "    return res\n",
    "\n",
    "# Pemanggilan fungsi untuk dekripsi\n",
    "decrypted_text = caesar_decrypt(ciphertext)\n",
    "print(\"Teks terdekripsi:\", decrypted_text)"
   ]
  },
  {
   "cell_type": "code",
   "execution_count": null,
   "id": "8bcbdf94",
   "metadata": {},
   "outputs": [],
   "source": []
  }
 ],
 "metadata": {
  "kernelspec": {
   "display_name": "Python 3 (ipykernel)",
   "language": "python",
   "name": "python3"
  },
  "language_info": {
   "codemirror_mode": {
    "name": "ipython",
    "version": 3
   },
   "file_extension": ".py",
   "mimetype": "text/x-python",
   "name": "python",
   "nbconvert_exporter": "python",
   "pygments_lexer": "ipython3",
   "version": "3.9.12"
  }
 },
 "nbformat": 4,
 "nbformat_minor": 5
}
